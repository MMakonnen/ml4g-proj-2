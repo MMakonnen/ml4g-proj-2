{
 "cells": [
  {
   "cell_type": "code",
   "execution_count": 4,
   "metadata": {},
   "outputs": [],
   "source": [
    "import zipfile\n",
    "import os\n",
    "\n",
    "# Define the path for the ZIP archive\n",
    "archive_name = \"../submission/Makonnen_Mikael_Project2.zip\"\n",
    "\n",
    "# Path to the submission folder\n",
    "submission_folder = \"../submission\"\n",
    "\n",
    "# Create the ZIP archive and add the files\n",
    "with zipfile.ZipFile(archive_name, \"w\") as zf:\n",
    "    # Iterate over the files in the submission folder\n",
    "    for file_name in [\"pred_props.csv\", \"cluster_membership.csv\"]:\n",
    "        file_path = os.path.join(submission_folder, file_name)  # Full path to the file\n",
    "        zf.write(file_path, arcname=file_name)  # Add file to ZIP archive\n"
   ]
  }
 ],
 "metadata": {
  "kernelspec": {
   "display_name": "ml4g-proj-2",
   "language": "python",
   "name": "python3"
  },
  "language_info": {
   "codemirror_mode": {
    "name": "ipython",
    "version": 3
   },
   "file_extension": ".py",
   "mimetype": "text/x-python",
   "name": "python",
   "nbconvert_exporter": "python",
   "pygments_lexer": "ipython3",
   "version": "3.10.15"
  }
 },
 "nbformat": 4,
 "nbformat_minor": 2
}
